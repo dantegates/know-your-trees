{
 "cells": [
  {
   "cell_type": "markdown",
   "metadata": {},
   "source": [
    "# Know your trees - 8 practical insights for training decision trees"
   ]
  },
  {
   "cell_type": "markdown",
   "metadata": {},
   "source": [
    "Tree based algorithms are among the most widely used algorithms in machine learning. This popularity is due largely to tree based algorithms being capable of achieving good results \"out of the box\", that is, with little tuning or data processing. Additionally tree based methods are versitile. They can be applied to both classification and regression problems and easily support mixing categorical and numeric values. Additionally algorithms such as the Random Forest inherits all of these benefits and are robust against overfitting making it an ideal candidate for almost any problem. This post will take a look at 7 properties of Decision Trees and offer practical insights on how to use these properties to get the most out of trees.\n",
    "\n",
    "Note: this post is probably most suited to someone who already understands the basic idea of a decision tree and has used trees in practice before. However if you've been doing data science for a while it's unlikely that you will discover anything new from this post."
   ]
  },
  {
   "cell_type": "markdown",
   "metadata": {},
   "source": [
    "# Preliminaries\n",
    "\n",
    "Before getting started we'll load up the clasic [Titanic data set](https://www.kaggle.com/c/titanic) to use for examples along the way"
   ]
  },
  {
   "cell_type": "code",
   "execution_count": 1,
   "metadata": {},
   "outputs": [],
   "source": [
    "import pandas as pd\n",
    "from sklearn.tree import DecisionTreeClassifier, DecisionTreeRegressor\n",
    "import matplotlib.pyplot as plt\n",
    "import numpy as np\n",
    "import utils\n",
    "X, y = utils.load_data()  # titanic data"
   ]
  },
  {
   "cell_type": "markdown",
   "metadata": {},
   "source": [
    "# Scale Invariance"
   ]
  },
  {
   "cell_type": "markdown",
   "metadata": {},
   "source": [
    "The first topic up is *scale invariance*. This means that training results are unaffected by [monotonic transformations](https://en.wikipedia.org/wiki/Monotonic_function) to the data set, that is transformations that preserve a feature's order, or said yet another way $x_{1}<x_{2}\\rightarrow f(x_{1})<f(x_{2})$.\n",
    "\n",
    "In other words normalizing or taking the log of a feature will have no impact on the outcome of training whatsoever. This makes training decision trees somewhat easier to train than, say, gradient based models which are much more sensitive to the scale of a data set and require normalization.\n",
    "\n",
    "The following code snippet demonstrates this property."
   ]
  },
  {
   "cell_type": "code",
   "execution_count": 2,
   "metadata": {},
   "outputs": [
    {
     "data": {
      "text/plain": [
       "True"
      ]
     },
     "execution_count": 2,
     "metadata": {},
     "output_type": "execute_result"
    }
   ],
   "source": [
    "clf1 = DecisionTreeClassifier()\n",
    "clf2 = DecisionTreeClassifier()\n",
    "clf1.fit(X, y)\n",
    "Xt = X.copy()\n",
    "Xt['Age'] /= 2\n",
    "Xt['Fare'] = np.log10(Xt.Fare+1e-1)\n",
    "clf2.fit(Xt, y)\n",
    "(clf1.predict(X) == clf2.predict(Xt)).all()"
   ]
  },
  {
   "cell_type": "markdown",
   "metadata": {},
   "source": [
    "We can get some insight into this property by examining how decision trees are learned. The following pseudo-Python code shows how the best split is determined for a given node.\n",
    "\n",
    "```python\n",
    "scores = {}\n",
    "for J in features:\n",
    "    for j in set(X[J]):\n",
    "        x1 = [x for x in X.records if x[J] < j]\n",
    "        x2 = [x for x in X.records if x[J] >= j]\n",
    "        scores[(J, j)] = f(x1, x2)\n",
    "best_split = max(scores.items(), key=lambda x: x[1])\n",
    "(feature, value), score = best_split\n",
    "```\n",
    "\n",
    "In other words the best split is the one that optimizes an objective function whose input is the subsets of the data belonging to the child nodes of the corresponding split. Two of the most common functions used are [Gini impurity and Information gain](https://en.wikipedia.org/wiki/Decision_tree_learning#Metrics). Each split in the decision tree is determined from the root node down (greedily).\n",
    "\n",
    "If you look carefully at this algorithm you'll see that if `X[J]` undergoes a monotonic transformation we'll still see the same values for `x1` and `x2` as before the transformation was performed, hence decision trees are scale invariant."
   ]
  },
  {
   "cell_type": "markdown",
   "metadata": {},
   "source": [
    "### What Scale Invariance does not mean"
   ]
  },
  {
   "cell_type": "markdown",
   "metadata": {},
   "source": [
    "Keep in mind that scale invariance only applies to a models *features* at *train time*. Scaling the response variable (in the case of regression) can impact training results. Similarly at *predict time* trees are still susceptible to changes in scale resulting from, e.g., covariate drift (see my previous [blog post](https://dantegates.github.io/2018/06/12/Monitoring-machine-learning-models-in-production.html))"
   ]
  },
  {
   "cell_type": "markdown",
   "metadata": {},
   "source": [
    "# Feature selection"
   ]
  },
  {
   "cell_type": "markdown",
   "metadata": {},
   "source": [
    "As shown above, when fitting a decision tree all possible splits of all training features are considered. However, only splits that are useful are chosen (most training implementations stop training once the splits are no longer beneficial past a certain threshold). Thus the presence of uninformative features in the training set does not hurt performance, and in this sense decision trees perform feature selection for the user.\n",
    "\n",
    "Consider the following example where adding completely random features to the training data has no impact on predictions."
   ]
  },
  {
   "cell_type": "code",
   "execution_count": 3,
   "metadata": {
    "scrolled": true
   },
   "outputs": [
    {
     "data": {
      "text/plain": [
       "True"
      ]
     },
     "execution_count": 3,
     "metadata": {},
     "output_type": "execute_result"
    }
   ],
   "source": [
    "clf1 = DecisionTreeClassifier()\n",
    "clf2 = DecisionTreeClassifier()\n",
    "clf1.fit(X, y)\n",
    "Xt = pd.DataFrame(np.random.randint(1, 10, size=(len(X), 3)), columns=['rand1', 'rand2', 'rand3'])\n",
    "Xt = X.merge(Xt, left_index=True, right_index=True)\n",
    "clf2.fit(Xt, y)\n",
    "(clf1.predict(X) == clf2.predict(Xt)).all()"
   ]
  },
  {
   "cell_type": "markdown",
   "metadata": {},
   "source": [
    "# Limited Extrapolation"
   ]
  },
  {
   "cell_type": "markdown",
   "metadata": {},
   "source": [
    "We've covered how to fit a decision tree. Now let's discuss how trees make predictions. At some point during training the algorithm above will terminate. This usually happens when (1) no more splits can be made or (2) all possible splits that remain fail to yield a score from the objective function above a certain threshold.\n",
    "\n",
    "At predict time, we run a feature vector through the decision trees rules until it hits a terminal node. In the case of classification, the most prevalent label in the training set belonging to that terminal node is the predicted label. In the case of regression the average response value of the training set becomes the prediction.\n",
    "\n",
    "This means trees can only predict values that were seen at train time. This is usually the case for classification. However for regression, many models are capable of predictive values lower or higher than what was seen at train time.\n",
    "\n",
    "If you think that you may need to predict values at run time above or below what was seen at train time and you want to use a tree based method, you may be able to get away with predicting an increase or decrease in the response value."
   ]
  },
  {
   "cell_type": "markdown",
   "metadata": {},
   "source": [
    "# Non linearity"
   ]
  },
  {
   "cell_type": "markdown",
   "metadata": {},
   "source": [
    "This brings us to our next point, since regression predictions are averages of the training data, we see that trees are capable of learning to predict non linear variables."
   ]
  },
  {
   "cell_type": "code",
   "execution_count": 4,
   "metadata": {},
   "outputs": [
    {
     "data": {
      "text/plain": [
       "[<matplotlib.lines.Line2D at 0x11a8d81d0>]"
      ]
     },
     "execution_count": 4,
     "metadata": {},
     "output_type": "execute_result"
    },
    {
     "data": {
      "image/png": "[encoded data removed]",
      "text/plain": [
       "<matplotlib.figure.Figure at 0x117634dd8>"
      ]
     },
     "metadata": {},
     "output_type": "display_data"
    }
   ],
   "source": [
    "regressor = DecisionTreeRegressor()\n",
    "X_regression = np.linspace(0, 100).reshape(-1, 1)\n",
    "y_regression = X_regression.reshape(-1)**2\n",
    "regressor.fit(X_regression, y_regression)\n",
    "plt.plot(regressor.predict(X_regression))"
   ]
  },
  {
   "cell_type": "markdown",
   "metadata": {},
   "source": [
    "# Interpretability"
   ]
  },
  {
   "cell_type": "markdown",
   "metadata": {},
   "source": [
    "Decision trees have the desirable property of being easily interpretable. We can fit a decision tree and look at the actual rules learned at each node. With `sklearn` it's easy to visualize a learned decision tree."
   ]
  },
  {
   "cell_type": "code",
   "execution_count": 5,
   "metadata": {},
   "outputs": [],
   "source": [
    "clf = DecisionTreeClassifier(max_depth=5)\n",
    "_ = clf.fit(X, y)"
   ]
  },
  {
   "cell_type": "code",
   "execution_count": 6,
   "metadata": {
    "scrolled": true
   },
   "outputs": [
    {
     "data": {
      "image/svg+xml": [
       "<?xml version=\"1.0\" encoding=\"UTF-8\" standalone=\"no\"?>\n",
       "<!DOCTYPE svg PUBLIC \"-//W3C//DTD SVG 1.1//EN\"\n",
       " \"http://www.w3.org/Graphics/SVG/1.1/DTD/svg11.dtd\">\n",
       "<!-- Generated by graphviz version 2.40.1 (20161225.0304)\n",
       " -->\n",
       "<!-- Title: Tree Pages: 1 -->\n",
       "<svg width=\"1279pt\" height=\"444pt\"\n",
       " viewBox=\"0.00 0.00 1279.43 444.00\" xmlns=\"http://www.w3.org/2000/svg\" xmlns:xlink=\"http://www.w3.org/1999/xlink\">\n",
       "<g id=\"graph0\" class=\"graph\" transform=\"scale(1 1) rotate(0) translate(4 440)\">\n",
       "<title>Tree</title>\n",
       "<polygon fill=\"#ffffff\" stroke=\"transparent\" points=\"-4,4 -4,-440 1275.4312,-440 1275.4312,4 -4,4\"/>\n",
       "<!-- 0 -->\n",
       "<g id=\"node1\" class=\"node\">\n",
       "<title>0</title>\n",
       "<path fill=\"#e58139\" fill-opacity=\"0.376471\" stroke=\"#000000\" d=\"M664.1307,-436C664.1307,-436 560.7316,-436 560.7316,-436 554.7316,-436 548.7316,-430 548.7316,-424 548.7316,-424 548.7316,-384 548.7316,-384 548.7316,-378 554.7316,-372 560.7316,-372 560.7316,-372 664.1307,-372 664.1307,-372 670.1307,-372 676.1307,-378 676.1307,-384 676.1307,-384 676.1307,-424 676.1307,-424 676.1307,-430 670.1307,-436 664.1307,-436\"/>\n",
       "<text text-anchor=\"middle\" x=\"612.4312\" y=\"-420.8\" font-family=\"Helvetica,sans-Serif\" font-size=\"14.00\" fill=\"#000000\">Sex=male &lt;= 0.5</text>\n",
       "<text text-anchor=\"middle\" x=\"612.4312\" y=\"-406.8\" font-family=\"Helvetica,sans-Serif\" font-size=\"14.00\" fill=\"#000000\">gini = 0.473</text>\n",
       "<text text-anchor=\"middle\" x=\"612.4312\" y=\"-392.8\" font-family=\"Helvetica,sans-Serif\" font-size=\"14.00\" fill=\"#000000\">samples = 891</text>\n",
       "<text text-anchor=\"middle\" x=\"612.4312\" y=\"-378.8\" font-family=\"Helvetica,sans-Serif\" font-size=\"14.00\" fill=\"#000000\">value = [549, 342]</text>\n",
       "</g>\n",
       "<!-- 1 -->\n",
       "<g id=\"node2\" class=\"node\">\n",
       "<title>1</title>\n",
       "<path fill=\"#399de5\" fill-opacity=\"0.650980\" stroke=\"#000000\" d=\"M494.3443,-336C494.3443,-336 398.518,-336 398.518,-336 392.518,-336 386.518,-330 386.518,-324 386.518,-324 386.518,-284 386.518,-284 386.518,-278 392.518,-272 398.518,-272 398.518,-272 494.3443,-272 494.3443,-272 500.3443,-272 506.3443,-278 506.3443,-284 506.3443,-284 506.3443,-324 506.3443,-324 506.3443,-330 500.3443,-336 494.3443,-336\"/>\n",
       "<text text-anchor=\"middle\" x=\"446.4312\" y=\"-320.8\" font-family=\"Helvetica,sans-Serif\" font-size=\"14.00\" fill=\"#000000\">Pclass &lt;= 2.5</text>\n",
       "<text text-anchor=\"middle\" x=\"446.4312\" y=\"-306.8\" font-family=\"Helvetica,sans-Serif\" font-size=\"14.00\" fill=\"#000000\">gini = 0.383</text>\n",
       "<text text-anchor=\"middle\" x=\"446.4312\" y=\"-292.8\" font-family=\"Helvetica,sans-Serif\" font-size=\"14.00\" fill=\"#000000\">samples = 314</text>\n",
       "<text text-anchor=\"middle\" x=\"446.4312\" y=\"-278.8\" font-family=\"Helvetica,sans-Serif\" font-size=\"14.00\" fill=\"#000000\">value = [81, 233]</text>\n",
       "</g>\n",
       "<!-- 0&#45;&gt;1 -->\n",
       "<g id=\"edge1\" class=\"edge\">\n",
       "<title>0&#45;&gt;1</title>\n",
       "<path fill=\"none\" stroke=\"#000000\" d=\"M558.994,-371.8089C542.8518,-362.0848 524.9937,-351.3268 508.3473,-341.2989\"/>\n",
       "<polygon fill=\"#000000\" stroke=\"#000000\" points=\"510.1401,-338.2929 499.7682,-336.1308 506.528,-344.289 510.1401,-338.2929\"/>\n",
       "<text text-anchor=\"middle\" x=\"505.7887\" y=\"-356.195\" font-family=\"Helvetica,sans-Serif\" font-size=\"14.00\" fill=\"#000000\">True</text>\n",
       "</g>\n",
       "<!-- 22 -->\n",
       "<g id=\"node15\" class=\"node\">\n",
       "<title>22</title>\n",
       "<path fill=\"#e58139\" fill-opacity=\"0.768627\" stroke=\"#000000\" d=\"M865.1307,-336C865.1307,-336 761.7316,-336 761.7316,-336 755.7316,-336 749.7316,-330 749.7316,-324 749.7316,-324 749.7316,-284 749.7316,-284 749.7316,-278 755.7316,-272 761.7316,-272 761.7316,-272 865.1307,-272 865.1307,-272 871.1307,-272 877.1307,-278 877.1307,-284 877.1307,-284 877.1307,-324 877.1307,-324 877.1307,-330 871.1307,-336 865.1307,-336\"/>\n",
       "<text text-anchor=\"middle\" x=\"813.4312\" y=\"-320.8\" font-family=\"Helvetica,sans-Serif\" font-size=\"14.00\" fill=\"#000000\">Fare &lt;= 26.269</text>\n",
       "<text text-anchor=\"middle\" x=\"813.4312\" y=\"-306.8\" font-family=\"Helvetica,sans-Serif\" font-size=\"14.00\" fill=\"#000000\">gini = 0.306</text>\n",
       "<text text-anchor=\"middle\" x=\"813.4312\" y=\"-292.8\" font-family=\"Helvetica,sans-Serif\" font-size=\"14.00\" fill=\"#000000\">samples = 577</text>\n",
       "<text text-anchor=\"middle\" x=\"813.4312\" y=\"-278.8\" font-family=\"Helvetica,sans-Serif\" font-size=\"14.00\" fill=\"#000000\">value = [468, 109]</text>\n",
       "</g>\n",
       "<!-- 0&#45;&gt;22 -->\n",
       "<g id=\"edge14\" class=\"edge\">\n",
       "<title>0&#45;&gt;22</title>\n",
       "<path fill=\"none\" stroke=\"#000000\" d=\"M676.305,-372.222C696.7324,-362.0591 719.4986,-350.7326 740.5193,-340.2745\"/>\n",
       "<polygon fill=\"#000000\" stroke=\"#000000\" points=\"742.3293,-343.2833 749.7235,-335.6954 739.2113,-337.0161 742.3293,-343.2833\"/>\n",
       "<text text-anchor=\"middle\" x=\"741.7706\" y=\"-355.1966\" font-family=\"Helvetica,sans-Serif\" font-size=\"14.00\" fill=\"#000000\">False</text>\n",
       "</g>\n",
       "<!-- 2 -->\n",
       "<g id=\"node3\" class=\"node\">\n",
       "<title>2</title>\n",
       "<path fill=\"#399de5\" fill-opacity=\"0.945098\" stroke=\"#000000\" d=\"M301.0342,-236C301.0342,-236 165.8281,-236 165.8281,-236 159.8281,-236 153.8281,-230 153.8281,-224 153.8281,-224 153.8281,-184 153.8281,-184 153.8281,-178 159.8281,-172 165.8281,-172 165.8281,-172 301.0342,-172 301.0342,-172 307.0342,-172 313.0342,-178 313.0342,-184 313.0342,-184 313.0342,-224 313.0342,-224 313.0342,-230 307.0342,-236 301.0342,-236\"/>\n",
       "<text text-anchor=\"middle\" x=\"233.4312\" y=\"-220.8\" font-family=\"Helvetica,sans-Serif\" font-size=\"14.00\" fill=\"#000000\">Cabin=C22 C26 &lt;= 0.5</text>\n",
       "<text text-anchor=\"middle\" x=\"233.4312\" y=\"-206.8\" font-family=\"Helvetica,sans-Serif\" font-size=\"14.00\" fill=\"#000000\">gini = 0.1</text>\n",
       "<text text-anchor=\"middle\" x=\"233.4312\" y=\"-192.8\" font-family=\"Helvetica,sans-Serif\" font-size=\"14.00\" fill=\"#000000\">samples = 170</text>\n",
       "<text text-anchor=\"middle\" x=\"233.4312\" y=\"-178.8\" font-family=\"Helvetica,sans-Serif\" font-size=\"14.00\" fill=\"#000000\">value = [9, 161]</text>\n",
       "</g>\n",
       "<!-- 1&#45;&gt;2 -->\n",
       "<g id=\"edge2\" class=\"edge\">\n",
       "<title>1&#45;&gt;2</title>\n",
       "<path fill=\"none\" stroke=\"#000000\" d=\"M386.248,-275.745C362.9039,-264.7853 335.8725,-252.0945 311.0936,-240.4612\"/>\n",
       "<polygon fill=\"#000000\" stroke=\"#000000\" points=\"312.259,-237.1419 301.7195,-236.0602 309.2841,-243.4783 312.259,-237.1419\"/>\n",
       "</g>\n",
       "<!-- 9 -->\n",
       "<g id=\"node8\" class=\"node\">\n",
       "<title>9</title>\n",
       "<path fill=\"transparent\" stroke=\"#000000\" d=\"M490.5582,-236C490.5582,-236 402.3041,-236 402.3041,-236 396.3041,-236 390.3041,-230 390.3041,-224 390.3041,-224 390.3041,-184 390.3041,-184 390.3041,-178 396.3041,-172 402.3041,-172 402.3041,-172 490.5582,-172 490.5582,-172 496.5582,-172 502.5582,-178 502.5582,-184 502.5582,-184 502.5582,-224 502.5582,-224 502.5582,-230 496.5582,-236 490.5582,-236\"/>\n",
       "<text text-anchor=\"middle\" x=\"446.4312\" y=\"-220.8\" font-family=\"Helvetica,sans-Serif\" font-size=\"14.00\" fill=\"#000000\">Fare &lt;= 23.35</text>\n",
       "<text text-anchor=\"middle\" x=\"446.4312\" y=\"-206.8\" font-family=\"Helvetica,sans-Serif\" font-size=\"14.00\" fill=\"#000000\">gini = 0.5</text>\n",
       "<text text-anchor=\"middle\" x=\"446.4312\" y=\"-192.8\" font-family=\"Helvetica,sans-Serif\" font-size=\"14.00\" fill=\"#000000\">samples = 144</text>\n",
       "<text text-anchor=\"middle\" x=\"446.4312\" y=\"-178.8\" font-family=\"Helvetica,sans-Serif\" font-size=\"14.00\" fill=\"#000000\">value = [72, 72]</text>\n",
       "</g>\n",
       "<!-- 1&#45;&gt;9 -->\n",
       "<g id=\"edge7\" class=\"edge\">\n",
       "<title>1&#45;&gt;9</title>\n",
       "<path fill=\"none\" stroke=\"#000000\" d=\"M446.4312,-271.8089C446.4312,-263.6906 446.4312,-254.8517 446.4312,-246.3186\"/>\n",
       "<polygon fill=\"#000000\" stroke=\"#000000\" points=\"449.9313,-246.1307 446.4312,-236.1308 442.9313,-246.1308 449.9313,-246.1307\"/>\n",
       "</g>\n",
       "<!-- 3 -->\n",
       "<g id=\"node4\" class=\"node\">\n",
       "<title>3</title>\n",
       "<path fill=\"#399de5\" fill-opacity=\"0.956863\" stroke=\"#000000\" d=\"M154.7935,-136C154.7935,-136 12.0688,-136 12.0688,-136 6.0688,-136 .0688,-130 .0688,-124 .0688,-124 .0688,-84 .0688,-84 .0688,-78 6.0688,-72 12.0688,-72 12.0688,-72 154.7935,-72 154.7935,-72 160.7935,-72 166.7935,-78 166.7935,-84 166.7935,-84 166.7935,-124 166.7935,-124 166.7935,-130 160.7935,-136 154.7935,-136\"/>\n",
       "<text text-anchor=\"middle\" x=\"83.4312\" y=\"-120.8\" font-family=\"Helvetica,sans-Serif\" font-size=\"14.00\" fill=\"#000000\">Ticket=PC 17595 &lt;= 0.5</text>\n",
       "<text text-anchor=\"middle\" x=\"83.4312\" y=\"-106.8\" font-family=\"Helvetica,sans-Serif\" font-size=\"14.00\" fill=\"#000000\">gini = 0.08</text>\n",
       "<text text-anchor=\"middle\" x=\"83.4312\" y=\"-92.8\" font-family=\"Helvetica,sans-Serif\" font-size=\"14.00\" fill=\"#000000\">samples = 168</text>\n",
       "<text text-anchor=\"middle\" x=\"83.4312\" y=\"-78.8\" font-family=\"Helvetica,sans-Serif\" font-size=\"14.00\" fill=\"#000000\">value = [7, 161]</text>\n",
       "</g>\n",
       "<!-- 2&#45;&gt;3 -->\n",
       "<g id=\"edge3\" class=\"edge\">\n",
       "<title>2&#45;&gt;3</title>\n",
       "<path fill=\"none\" stroke=\"#000000\" d=\"M185.1445,-171.8089C170.8259,-162.2632 155.013,-151.7213 140.2085,-141.8516\"/>\n",
       "<polygon fill=\"#000000\" stroke=\"#000000\" points=\"141.8893,-138.7656 131.6273,-136.1308 138.0063,-144.59 141.8893,-138.7656\"/>\n",
       "</g>\n",
       "<!-- 8 -->\n",
       "<g id=\"node7\" class=\"node\">\n",
       "<title>8</title>\n",
       "<path fill=\"#e58139\" stroke=\"#000000\" d=\"M269.4869,-129C269.4869,-129 197.3754,-129 197.3754,-129 191.3754,-129 185.3754,-123 185.3754,-117 185.3754,-117 185.3754,-91 185.3754,-91 185.3754,-85 191.3754,-79 197.3754,-79 197.3754,-79 269.4869,-79 269.4869,-79 275.4869,-79 281.4869,-85 281.4869,-91 281.4869,-91 281.4869,-117 281.4869,-117 281.4869,-123 275.4869,-129 269.4869,-129\"/>\n",
       "<text text-anchor=\"middle\" x=\"233.4312\" y=\"-113.8\" font-family=\"Helvetica,sans-Serif\" font-size=\"14.00\" fill=\"#000000\">gini = 0.0</text>\n",
       "<text text-anchor=\"middle\" x=\"233.4312\" y=\"-99.8\" font-family=\"Helvetica,sans-Serif\" font-size=\"14.00\" fill=\"#000000\">samples = 2</text>\n",
       "<text text-anchor=\"middle\" x=\"233.4312\" y=\"-85.8\" font-family=\"Helvetica,sans-Serif\" font-size=\"14.00\" fill=\"#000000\">value = [2, 0]</text>\n",
       "</g>\n",
       "<!-- 2&#45;&gt;8 -->\n",
       "<g id=\"edge6\" class=\"edge\">\n",
       "<title>2&#45;&gt;8</title>\n",
       "<path fill=\"none\" stroke=\"#000000\" d=\"M233.4312,-171.8089C233.4312,-161.446 233.4312,-149.909 233.4312,-139.3327\"/>\n",
       "<polygon fill=\"#000000\" stroke=\"#000000\" points=\"236.9313,-139.1555 233.4312,-129.1555 229.9313,-139.1556 236.9313,-139.1555\"/>\n",
       "</g>\n",
       "<!-- 4 -->\n",
       "<g id=\"node5\" class=\"node\">\n",
       "<title>4</title>\n",
       "<path fill=\"#c0c0c0\" stroke=\"#000000\" d=\"M62.4312,-36C62.4312,-36 32.4312,-36 32.4312,-36 26.4312,-36 20.4312,-30 20.4312,-24 20.4312,-24 20.4312,-12 20.4312,-12 20.4312,-6 26.4312,0 32.4312,0 32.4312,0 62.4312,0 62.4312,0 68.4312,0 74.4312,-6 74.4312,-12 74.4312,-12 74.4312,-24 74.4312,-24 74.4312,-30 68.4312,-36 62.4312,-36\"/>\n",
       "<text text-anchor=\"middle\" x=\"47.4312\" y=\"-13.8\" font-family=\"Helvetica,sans-Serif\" font-size=\"14.00\" fill=\"#000000\">(...)</text>\n",
       "</g>\n",
       "<!-- 3&#45;&gt;4 -->\n",
       "<g id=\"edge4\" class=\"edge\">\n",
       "<title>3&#45;&gt;4</title>\n",
       "<path fill=\"none\" stroke=\"#000000\" d=\"M70.0261,-71.9768C66.4052,-63.327 62.5186,-54.0421 59.0072,-45.654\"/>\n",
       "<polygon fill=\"#000000\" stroke=\"#000000\" points=\"62.1861,-44.1837 55.0961,-36.3108 55.729,-46.8867 62.1861,-44.1837\"/>\n",
       "</g>\n",
       "<!-- 7 -->\n",
       "<g id=\"node6\" class=\"node\">\n",
       "<title>7</title>\n",
       "<path fill=\"#c0c0c0\" stroke=\"#000000\" d=\"M134.4312,-36C134.4312,-36 104.4312,-36 104.4312,-36 98.4312,-36 92.4312,-30 92.4312,-24 92.4312,-24 92.4312,-12 92.4312,-12 92.4312,-6 98.4312,0 104.4312,0 104.4312,0 134.4312,0 134.4312,0 140.4312,0 146.4312,-6 146.4312,-12 146.4312,-12 146.4312,-24 146.4312,-24 146.4312,-30 140.4312,-36 134.4312,-36\"/>\n",
       "<text text-anchor=\"middle\" x=\"119.4312\" y=\"-13.8\" font-family=\"Helvetica,sans-Serif\" font-size=\"14.00\" fill=\"#000000\">(...)</text>\n",
       "</g>\n",
       "<!-- 3&#45;&gt;7 -->\n",
       "<g id=\"edge5\" class=\"edge\">\n",
       "<title>3&#45;&gt;7</title>\n",
       "<path fill=\"none\" stroke=\"#000000\" d=\"M96.8362,-71.9768C100.4571,-63.327 104.3438,-54.0421 107.8551,-45.654\"/>\n",
       "<polygon fill=\"#000000\" stroke=\"#000000\" points=\"111.1333,-46.8867 111.7662,-36.3108 104.6762,-44.1837 111.1333,-46.8867\"/>\n",
       "</g>\n",
       "<!-- 10 -->\n",
       "<g id=\"node9\" class=\"node\">\n",
       "<title>10</title>\n",
       "<path fill=\"#399de5\" fill-opacity=\"0.305882\" stroke=\"#000000\" d=\"M399.5582,-136C399.5582,-136 311.3041,-136 311.3041,-136 305.3041,-136 299.3041,-130 299.3041,-124 299.3041,-124 299.3041,-84 299.3041,-84 299.3041,-78 305.3041,-72 311.3041,-72 311.3041,-72 399.5582,-72 399.5582,-72 405.5582,-72 411.5582,-78 411.5582,-84 411.5582,-84 411.5582,-124 411.5582,-124 411.5582,-130 405.5582,-136 399.5582,-136\"/>\n",
       "<text text-anchor=\"middle\" x=\"355.4312\" y=\"-120.8\" font-family=\"Helvetica,sans-Serif\" font-size=\"14.00\" fill=\"#000000\">Age &lt;= 16.5</text>\n",
       "<text text-anchor=\"middle\" x=\"355.4312\" y=\"-106.8\" font-family=\"Helvetica,sans-Serif\" font-size=\"14.00\" fill=\"#000000\">gini = 0.484</text>\n",
       "<text text-anchor=\"middle\" x=\"355.4312\" y=\"-92.8\" font-family=\"Helvetica,sans-Serif\" font-size=\"14.00\" fill=\"#000000\">samples = 117</text>\n",
       "<text text-anchor=\"middle\" x=\"355.4312\" y=\"-78.8\" font-family=\"Helvetica,sans-Serif\" font-size=\"14.00\" fill=\"#000000\">value = [48, 69]</text>\n",
       "</g>\n",
       "<!-- 9&#45;&gt;10 -->\n",
       "<g id=\"edge8\" class=\"edge\">\n",
       "<title>9&#45;&gt;10</title>\n",
       "<path fill=\"none\" stroke=\"#000000\" d=\"M417.1373,-171.8089C409.0189,-162.8877 400.1088,-153.0963 391.6462,-143.7968\"/>\n",
       "<polygon fill=\"#000000\" stroke=\"#000000\" points=\"393.9892,-141.1712 384.6701,-136.1308 388.812,-145.8825 393.9892,-141.1712\"/>\n",
       "</g>\n",
       "<!-- 17 -->\n",
       "<g id=\"node12\" class=\"node\">\n",
       "<title>17</title>\n",
       "<path fill=\"#e58139\" fill-opacity=\"0.874510\" stroke=\"#000000\" d=\"M569.242,-136C569.242,-136 441.6203,-136 441.6203,-136 435.6203,-136 429.6203,-130 429.6203,-124 429.6203,-124 429.6203,-84 429.6203,-84 429.6203,-78 435.6203,-72 441.6203,-72 441.6203,-72 569.242,-72 569.242,-72 575.242,-72 581.242,-78 581.242,-84 581.242,-84 581.242,-124 581.242,-124 581.242,-130 575.242,-136 569.242,-136\"/>\n",
       "<text text-anchor=\"middle\" x=\"505.4312\" y=\"-120.8\" font-family=\"Helvetica,sans-Serif\" font-size=\"14.00\" fill=\"#000000\">Ticket=347077 &lt;= 0.5</text>\n",
       "<text text-anchor=\"middle\" x=\"505.4312\" y=\"-106.8\" font-family=\"Helvetica,sans-Serif\" font-size=\"14.00\" fill=\"#000000\">gini = 0.198</text>\n",
       "<text text-anchor=\"middle\" x=\"505.4312\" y=\"-92.8\" font-family=\"Helvetica,sans-Serif\" font-size=\"14.00\" fill=\"#000000\">samples = 27</text>\n",
       "<text text-anchor=\"middle\" x=\"505.4312\" y=\"-78.8\" font-family=\"Helvetica,sans-Serif\" font-size=\"14.00\" fill=\"#000000\">value = [24, 3]</text>\n",
       "</g>\n",
       "<!-- 9&#45;&gt;17 -->\n",
       "<g id=\"edge11\" class=\"edge\">\n",
       "<title>9&#45;&gt;17</title>\n",
       "<path fill=\"none\" stroke=\"#000000\" d=\"M465.4239,-171.8089C470.4769,-163.2445 476.003,-153.8782 481.2913,-144.915\"/>\n",
       "<polygon fill=\"#000000\" stroke=\"#000000\" points=\"484.4069,-146.522 486.474,-136.1308 478.378,-142.9649 484.4069,-146.522\"/>\n",
       "</g>\n",
       "<!-- 11 -->\n",
       "<g id=\"node10\" class=\"node\">\n",
       "<title>11</title>\n",
       "<path fill=\"#c0c0c0\" stroke=\"#000000\" d=\"M301.4312,-36C301.4312,-36 271.4312,-36 271.4312,-36 265.4312,-36 259.4312,-30 259.4312,-24 259.4312,-24 259.4312,-12 259.4312,-12 259.4312,-6 265.4312,0 271.4312,0 271.4312,0 301.4312,0 301.4312,0 307.4312,0 313.4312,-6 313.4312,-12 313.4312,-12 313.4312,-24 313.4312,-24 313.4312,-30 307.4312,-36 301.4312,-36\"/>\n",
       "<text text-anchor=\"middle\" x=\"286.4312\" y=\"-13.8\" font-family=\"Helvetica,sans-Serif\" font-size=\"14.00\" fill=\"#000000\">(...)</text>\n",
       "</g>\n",
       "<!-- 10&#45;&gt;11 -->\n",
       "<g id=\"edge9\" class=\"edge\">\n",
       "<title>10&#45;&gt;11</title>\n",
       "<path fill=\"none\" stroke=\"#000000\" d=\"M329.7381,-71.9768C322.421,-62.8569 314.5374,-53.031 307.5279,-44.2945\"/>\n",
       "<polygon fill=\"#000000\" stroke=\"#000000\" points=\"310.1103,-41.9203 301.1223,-36.3108 304.6504,-46.3009 310.1103,-41.9203\"/>\n",
       "</g>\n",
       "<!-- 14 -->\n",
       "<g id=\"node11\" class=\"node\">\n",
       "<title>14</title>\n",
       "<path fill=\"#c0c0c0\" stroke=\"#000000\" d=\"M373.4312,-36C373.4312,-36 343.4312,-36 343.4312,-36 337.4312,-36 331.4312,-30 331.4312,-24 331.4312,-24 331.4312,-12 331.4312,-12 331.4312,-6 337.4312,0 343.4312,0 343.4312,0 373.4312,0 373.4312,0 379.4312,0 385.4312,-6 385.4312,-12 385.4312,-12 385.4312,-24 385.4312,-24 385.4312,-30 379.4312,-36 373.4312,-36\"/>\n",
       "<text text-anchor=\"middle\" x=\"358.4312\" y=\"-13.8\" font-family=\"Helvetica,sans-Serif\" font-size=\"14.00\" fill=\"#000000\">(...)</text>\n",
       "</g>\n",
       "<!-- 10&#45;&gt;14 -->\n",
       "<g id=\"edge10\" class=\"edge\">\n",
       "<title>10&#45;&gt;14</title>\n",
       "<path fill=\"none\" stroke=\"#000000\" d=\"M356.5482,-71.9768C356.8401,-63.609 357.1528,-54.647 357.4378,-46.4774\"/>\n",
       "<polygon fill=\"#000000\" stroke=\"#000000\" points=\"360.9416,-46.4267 357.7924,-36.3108 353.9458,-46.1826 360.9416,-46.4267\"/>\n",
       "</g>\n",
       "<!-- 18 -->\n",
       "<g id=\"node13\" class=\"node\">\n",
       "<title>18</title>\n",
       "<path fill=\"#c0c0c0\" stroke=\"#000000\" d=\"M483.4312,-36C483.4312,-36 453.4312,-36 453.4312,-36 447.4312,-36 441.4312,-30 441.4312,-24 441.4312,-24 441.4312,-12 441.4312,-12 441.4312,-6 447.4312,0 453.4312,0 453.4312,0 483.4312,0 483.4312,0 489.4312,0 495.4312,-6 495.4312,-12 495.4312,-12 495.4312,-24 495.4312,-24 495.4312,-30 489.4312,-36 483.4312,-36\"/>\n",
       "<text text-anchor=\"middle\" x=\"468.4312\" y=\"-13.8\" font-family=\"Helvetica,sans-Serif\" font-size=\"14.00\" fill=\"#000000\">(...)</text>\n",
       "</g>\n",
       "<!-- 17&#45;&gt;18 -->\n",
       "<g id=\"edge12\" class=\"edge\">\n",
       "<title>17&#45;&gt;18</title>\n",
       "<path fill=\"none\" stroke=\"#000000\" d=\"M491.6537,-71.9768C487.9323,-63.327 483.9376,-54.0421 480.3288,-45.654\"/>\n",
       "<polygon fill=\"#000000\" stroke=\"#000000\" points=\"483.4762,-44.1134 476.309,-36.3108 477.0461,-46.8799 483.4762,-44.1134\"/>\n",
       "</g>\n",
       "<!-- 21 -->\n",
       "<g id=\"node14\" class=\"node\">\n",
       "<title>21</title>\n",
       "<path fill=\"#c0c0c0\" stroke=\"#000000\" d=\"M555.4312,-36C555.4312,-36 525.4312,-36 525.4312,-36 519.4312,-36 513.4312,-30 513.4312,-24 513.4312,-24 513.4312,-12 513.4312,-12 513.4312,-6 519.4312,0 525.4312,0 525.4312,0 555.4312,0 555.4312,0 561.4312,0 567.4312,-6 567.4312,-12 567.4312,-12 567.4312,-24 567.4312,-24 567.4312,-30 561.4312,-36 555.4312,-36\"/>\n",
       "<text text-anchor=\"middle\" x=\"540.4312\" y=\"-13.8\" font-family=\"Helvetica,sans-Serif\" font-size=\"14.00\" fill=\"#000000\">(...)</text>\n",
       "</g>\n",
       "<!-- 17&#45;&gt;21 -->\n",
       "<g id=\"edge13\" class=\"edge\">\n",
       "<title>17&#45;&gt;21</title>\n",
       "<path fill=\"none\" stroke=\"#000000\" d=\"M518.4639,-71.9768C521.9841,-63.327 525.7628,-54.0421 529.1766,-45.654\"/>\n",
       "<polygon fill=\"#000000\" stroke=\"#000000\" points=\"532.4513,-46.8924 532.9791,-36.3108 525.9677,-44.2537 532.4513,-46.8924\"/>\n",
       "</g>\n",
       "<!-- 23 -->\n",
       "<g id=\"node16\" class=\"node\">\n",
       "<title>23</title>\n",
       "<path fill=\"#e58139\" fill-opacity=\"0.850980\" stroke=\"#000000\" d=\"M861.3443,-236C861.3443,-236 765.518,-236 765.518,-236 759.518,-236 753.518,-230 753.518,-224 753.518,-224 753.518,-184 753.518,-184 753.518,-178 759.518,-172 765.518,-172 765.518,-172 861.3443,-172 861.3443,-172 867.3443,-172 873.3443,-178 873.3443,-184 873.3443,-184 873.3443,-224 873.3443,-224 873.3443,-230 867.3443,-236 861.3443,-236\"/>\n",
       "<text text-anchor=\"middle\" x=\"813.4312\" y=\"-220.8\" font-family=\"Helvetica,sans-Serif\" font-size=\"14.00\" fill=\"#000000\">Parch &lt;= 0.5</text>\n",
       "<text text-anchor=\"middle\" x=\"813.4312\" y=\"-206.8\" font-family=\"Helvetica,sans-Serif\" font-size=\"14.00\" fill=\"#000000\">gini = 0.226</text>\n",
       "<text text-anchor=\"middle\" x=\"813.4312\" y=\"-192.8\" font-family=\"Helvetica,sans-Serif\" font-size=\"14.00\" fill=\"#000000\">samples = 415</text>\n",
       "<text text-anchor=\"middle\" x=\"813.4312\" y=\"-178.8\" font-family=\"Helvetica,sans-Serif\" font-size=\"14.00\" fill=\"#000000\">value = [361, 54]</text>\n",
       "</g>\n",
       "<!-- 22&#45;&gt;23 -->\n",
       "<g id=\"edge15\" class=\"edge\">\n",
       "<title>22&#45;&gt;23</title>\n",
       "<path fill=\"none\" stroke=\"#000000\" d=\"M813.4312,-271.8089C813.4312,-263.6906 813.4312,-254.8517 813.4312,-246.3186\"/>\n",
       "<polygon fill=\"#000000\" stroke=\"#000000\" points=\"816.9313,-246.1307 813.4312,-236.1308 809.9313,-246.1308 816.9313,-246.1307\"/>\n",
       "</g>\n",
       "<!-- 36 -->\n",
       "<g id=\"node23\" class=\"node\">\n",
       "<title>36</title>\n",
       "<path fill=\"#e58139\" fill-opacity=\"0.486275\" stroke=\"#000000\" d=\"M1127.2028,-236C1127.2028,-236 997.6595,-236 997.6595,-236 991.6595,-236 985.6595,-230 985.6595,-224 985.6595,-224 985.6595,-184 985.6595,-184 985.6595,-178 991.6595,-172 997.6595,-172 997.6595,-172 1127.2028,-172 1127.2028,-172 1133.2028,-172 1139.2028,-178 1139.2028,-184 1139.2028,-184 1139.2028,-224 1139.2028,-224 1139.2028,-230 1133.2028,-236 1127.2028,-236\"/>\n",
       "<text text-anchor=\"middle\" x=\"1062.4312\" y=\"-220.8\" font-family=\"Helvetica,sans-Serif\" font-size=\"14.00\" fill=\"#000000\">PassengerId &lt;= 389.0</text>\n",
       "<text text-anchor=\"middle\" x=\"1062.4312\" y=\"-206.8\" font-family=\"Helvetica,sans-Serif\" font-size=\"14.00\" fill=\"#000000\">gini = 0.448</text>\n",
       "<text text-anchor=\"middle\" x=\"1062.4312\" y=\"-192.8\" font-family=\"Helvetica,sans-Serif\" font-size=\"14.00\" fill=\"#000000\">samples = 162</text>\n",
       "<text text-anchor=\"middle\" x=\"1062.4312\" y=\"-178.8\" font-family=\"Helvetica,sans-Serif\" font-size=\"14.00\" fill=\"#000000\">value = [107, 55]</text>\n",
       "</g>\n",
       "<!-- 22&#45;&gt;36 -->\n",
       "<g id=\"edge22\" class=\"edge\">\n",
       "<title>22&#45;&gt;36</title>\n",
       "<path fill=\"none\" stroke=\"#000000\" d=\"M877.2315,-278.3774C907.264,-266.3161 943.5356,-251.7492 975.9898,-238.7154\"/>\n",
       "<polygon fill=\"#000000\" stroke=\"#000000\" points=\"977.5042,-241.879 985.4794,-234.9043 974.8954,-235.3833 977.5042,-241.879\"/>\n",
       "</g>\n",
       "<!-- 24 -->\n",
       "<g id=\"node17\" class=\"node\">\n",
       "<title>24</title>\n",
       "<path fill=\"#e58139\" fill-opacity=\"0.886275\" stroke=\"#000000\" d=\"M830.0408,-136C830.0408,-136 610.8215,-136 610.8215,-136 604.8215,-136 598.8215,-130 598.8215,-124 598.8215,-124 598.8215,-84 598.8215,-84 598.8215,-78 604.8215,-72 610.8215,-72 610.8215,-72 830.0408,-72 830.0408,-72 836.0408,-72 842.0408,-78 842.0408,-84 842.0408,-84 842.0408,-124 842.0408,-124 842.0408,-130 836.0408,-136 830.0408,-136\"/>\n",
       "<text text-anchor=\"middle\" x=\"720.4312\" y=\"-120.8\" font-family=\"Helvetica,sans-Serif\" font-size=\"14.00\" fill=\"#000000\">Name=Jansson, Mr. Carl Olof &lt;= 0.5</text>\n",
       "<text text-anchor=\"middle\" x=\"720.4312\" y=\"-106.8\" font-family=\"Helvetica,sans-Serif\" font-size=\"14.00\" fill=\"#000000\">gini = 0.184</text>\n",
       "<text text-anchor=\"middle\" x=\"720.4312\" y=\"-92.8\" font-family=\"Helvetica,sans-Serif\" font-size=\"14.00\" fill=\"#000000\">samples = 380</text>\n",
       "<text text-anchor=\"middle\" x=\"720.4312\" y=\"-78.8\" font-family=\"Helvetica,sans-Serif\" font-size=\"14.00\" fill=\"#000000\">value = [341, 39]</text>\n",
       "</g>\n",
       "<!-- 23&#45;&gt;24 -->\n",
       "<g id=\"edge16\" class=\"edge\">\n",
       "<title>23&#45;&gt;24</title>\n",
       "<path fill=\"none\" stroke=\"#000000\" d=\"M783.4935,-171.8089C775.1137,-162.7985 765.9085,-152.9004 757.1828,-143.518\"/>\n",
       "<polygon fill=\"#000000\" stroke=\"#000000\" points=\"759.6859,-141.0699 750.3128,-136.1308 754.56,-145.8371 759.6859,-141.0699\"/>\n",
       "</g>\n",
       "<!-- 29 -->\n",
       "<g id=\"node20\" class=\"node\">\n",
       "<title>29</title>\n",
       "<path fill=\"#e58139\" fill-opacity=\"0.250980\" stroke=\"#000000\" d=\"M960.5582,-136C960.5582,-136 872.3041,-136 872.3041,-136 866.3041,-136 860.3041,-130 860.3041,-124 860.3041,-124 860.3041,-84 860.3041,-84 860.3041,-78 866.3041,-72 872.3041,-72 872.3041,-72 960.5582,-72 960.5582,-72 966.5582,-72 972.5582,-78 972.5582,-84 972.5582,-84 972.5582,-124 972.5582,-124 972.5582,-130 966.5582,-136 960.5582,-136\"/>\n",
       "<text text-anchor=\"middle\" x=\"916.4312\" y=\"-120.8\" font-family=\"Helvetica,sans-Serif\" font-size=\"14.00\" fill=\"#000000\">Age &lt;= 12.0</text>\n",
       "<text text-anchor=\"middle\" x=\"916.4312\" y=\"-106.8\" font-family=\"Helvetica,sans-Serif\" font-size=\"14.00\" fill=\"#000000\">gini = 0.49</text>\n",
       "<text text-anchor=\"middle\" x=\"916.4312\" y=\"-92.8\" font-family=\"Helvetica,sans-Serif\" font-size=\"14.00\" fill=\"#000000\">samples = 35</text>\n",
       "<text text-anchor=\"middle\" x=\"916.4312\" y=\"-78.8\" font-family=\"Helvetica,sans-Serif\" font-size=\"14.00\" fill=\"#000000\">value = [20, 15]</text>\n",
       "</g>\n",
       "<!-- 23&#45;&gt;29 -->\n",
       "<g id=\"edge19\" class=\"edge\">\n",
       "<title>23&#45;&gt;29</title>\n",
       "<path fill=\"none\" stroke=\"#000000\" d=\"M846.588,-171.8089C855.9606,-162.7092 866.2657,-152.7043 876.0146,-143.2394\"/>\n",
       "<polygon fill=\"#000000\" stroke=\"#000000\" points=\"878.5997,-145.6078 883.3365,-136.1308 873.7236,-140.5854 878.5997,-145.6078\"/>\n",
       "</g>\n",
       "<!-- 25 -->\n",
       "<g id=\"node18\" class=\"node\">\n",
       "<title>25</title>\n",
       "<path fill=\"#c0c0c0\" stroke=\"#000000\" d=\"M689.4312,-36C689.4312,-36 659.4312,-36 659.4312,-36 653.4312,-36 647.4312,-30 647.4312,-24 647.4312,-24 647.4312,-12 647.4312,-12 647.4312,-6 653.4312,0 659.4312,0 659.4312,0 689.4312,0 689.4312,0 695.4312,0 701.4312,-6 701.4312,-12 701.4312,-12 701.4312,-24 701.4312,-24 701.4312,-30 695.4312,-36 689.4312,-36\"/>\n",
       "<text text-anchor=\"middle\" x=\"674.4312\" y=\"-13.8\" font-family=\"Helvetica,sans-Serif\" font-size=\"14.00\" fill=\"#000000\">(...)</text>\n",
       "</g>\n",
       "<!-- 24&#45;&gt;25 -->\n",
       "<g id=\"edge17\" class=\"edge\">\n",
       "<title>24&#45;&gt;25</title>\n",
       "<path fill=\"none\" stroke=\"#000000\" d=\"M703.3025,-71.9768C698.6255,-63.233 693.6015,-53.8402 689.0767,-45.3808\"/>\n",
       "<polygon fill=\"#000000\" stroke=\"#000000\" points=\"692.0281,-43.4778 684.2253,-36.3108 685.8556,-46.7794 692.0281,-43.4778\"/>\n",
       "</g>\n",
       "<!-- 28 -->\n",
       "<g id=\"node19\" class=\"node\">\n",
       "<title>28</title>\n",
       "<path fill=\"#c0c0c0\" stroke=\"#000000\" d=\"M761.4312,-36C761.4312,-36 731.4312,-36 731.4312,-36 725.4312,-36 719.4312,-30 719.4312,-24 719.4312,-24 719.4312,-12 719.4312,-12 719.4312,-6 725.4312,0 731.4312,0 731.4312,0 761.4312,0 761.4312,0 767.4312,0 773.4312,-6 773.4312,-12 773.4312,-12 773.4312,-24 773.4312,-24 773.4312,-30 767.4312,-36 761.4312,-36\"/>\n",
       "<text text-anchor=\"middle\" x=\"746.4312\" y=\"-13.8\" font-family=\"Helvetica,sans-Serif\" font-size=\"14.00\" fill=\"#000000\">(...)</text>\n",
       "</g>\n",
       "<!-- 24&#45;&gt;28 -->\n",
       "<g id=\"edge18\" class=\"edge\">\n",
       "<title>24&#45;&gt;28</title>\n",
       "<path fill=\"none\" stroke=\"#000000\" d=\"M730.1126,-71.9768C732.6992,-63.421 735.4737,-54.2439 737.9879,-45.9278\"/>\n",
       "<polygon fill=\"#000000\" stroke=\"#000000\" points=\"741.3516,-46.8958 740.8953,-36.3108 734.6511,-44.87 741.3516,-46.8958\"/>\n",
       "</g>\n",
       "<!-- 30 -->\n",
       "<g id=\"node21\" class=\"node\">\n",
       "<title>30</title>\n",
       "<path fill=\"#c0c0c0\" stroke=\"#000000\" d=\"M860.4312,-36C860.4312,-36 830.4312,-36 830.4312,-36 824.4312,-36 818.4312,-30 818.4312,-24 818.4312,-24 818.4312,-12 818.4312,-12 818.4312,-6 824.4312,0 830.4312,0 830.4312,0 860.4312,0 860.4312,0 866.4312,0 872.4312,-6 872.4312,-12 872.4312,-12 872.4312,-24 872.4312,-24 872.4312,-30 866.4312,-36 860.4312,-36\"/>\n",
       "<text text-anchor=\"middle\" x=\"845.4312\" y=\"-13.8\" font-family=\"Helvetica,sans-Serif\" font-size=\"14.00\" fill=\"#000000\">(...)</text>\n",
       "</g>\n",
       "<!-- 29&#45;&gt;30 -->\n",
       "<g id=\"edge20\" class=\"edge\">\n",
       "<title>29&#45;&gt;30</title>\n",
       "<path fill=\"none\" stroke=\"#000000\" d=\"M889.9934,-71.9768C882.3865,-62.7629 874.1848,-52.8283 866.9167,-44.0247\"/>\n",
       "<polygon fill=\"#000000\" stroke=\"#000000\" points=\"869.6137,-41.794 860.5482,-36.3108 864.2157,-46.2506 869.6137,-41.794\"/>\n",
       "</g>\n",
       "<!-- 33 -->\n",
       "<g id=\"node22\" class=\"node\">\n",
       "<title>33</title>\n",
       "<path fill=\"#c0c0c0\" stroke=\"#000000\" d=\"M932.4312,-36C932.4312,-36 902.4312,-36 902.4312,-36 896.4312,-36 890.4312,-30 890.4312,-24 890.4312,-24 890.4312,-12 890.4312,-12 890.4312,-6 896.4312,0 902.4312,0 902.4312,0 932.4312,0 932.4312,0 938.4312,0 944.4312,-6 944.4312,-12 944.4312,-12 944.4312,-24 944.4312,-24 944.4312,-30 938.4312,-36 932.4312,-36\"/>\n",
       "<text text-anchor=\"middle\" x=\"917.4312\" y=\"-13.8\" font-family=\"Helvetica,sans-Serif\" font-size=\"14.00\" fill=\"#000000\">(...)</text>\n",
       "</g>\n",
       "<!-- 29&#45;&gt;33 -->\n",
       "<g id=\"edge21\" class=\"edge\">\n",
       "<title>29&#45;&gt;33</title>\n",
       "<path fill=\"none\" stroke=\"#000000\" d=\"M916.8035,-71.9768C916.9008,-63.609 917.005,-54.647 917.1,-46.4774\"/>\n",
       "<polygon fill=\"#000000\" stroke=\"#000000\" points=\"920.6016,-46.3508 917.2182,-36.3108 913.6021,-46.2693 920.6016,-46.3508\"/>\n",
       "</g>\n",
       "<!-- 37 -->\n",
       "<g id=\"node24\" class=\"node\">\n",
       "<title>37</title>\n",
       "<path fill=\"#e58139\" fill-opacity=\"0.756863\" stroke=\"#000000\" d=\"M1121.9564,-136C1121.9564,-136 1002.906,-136 1002.906,-136 996.906,-136 990.906,-130 990.906,-124 990.906,-124 990.906,-84 990.906,-84 990.906,-78 996.906,-72 1002.906,-72 1002.906,-72 1121.9564,-72 1121.9564,-72 1127.9564,-72 1133.9564,-78 1133.9564,-84 1133.9564,-84 1133.9564,-124 1133.9564,-124 1133.9564,-130 1127.9564,-136 1121.9564,-136\"/>\n",
       "<text text-anchor=\"middle\" x=\"1062.4312\" y=\"-120.8\" font-family=\"Helvetica,sans-Serif\" font-size=\"14.00\" fill=\"#000000\">Ticket=19943 &lt;= 0.5</text>\n",
       "<text text-anchor=\"middle\" x=\"1062.4312\" y=\"-106.8\" font-family=\"Helvetica,sans-Serif\" font-size=\"14.00\" fill=\"#000000\">gini = 0.313</text>\n",
       "<text text-anchor=\"middle\" x=\"1062.4312\" y=\"-92.8\" font-family=\"Helvetica,sans-Serif\" font-size=\"14.00\" fill=\"#000000\">samples = 72</text>\n",
       "<text text-anchor=\"middle\" x=\"1062.4312\" y=\"-78.8\" font-family=\"Helvetica,sans-Serif\" font-size=\"14.00\" fill=\"#000000\">value = [58, 14]</text>\n",
       "</g>\n",
       "<!-- 36&#45;&gt;37 -->\n",
       "<g id=\"edge23\" class=\"edge\">\n",
       "<title>36&#45;&gt;37</title>\n",
       "<path fill=\"none\" stroke=\"#000000\" d=\"M1062.4312,-171.8089C1062.4312,-163.6906 1062.4312,-154.8517 1062.4312,-146.3186\"/>\n",
       "<polygon fill=\"#000000\" stroke=\"#000000\" points=\"1065.9313,-146.1307 1062.4312,-136.1308 1058.9313,-146.1308 1065.9313,-146.1307\"/>\n",
       "</g>\n",
       "<!-- 42 -->\n",
       "<g id=\"node27\" class=\"node\">\n",
       "<title>42</title>\n",
       "<path fill=\"#e58139\" fill-opacity=\"0.164706\" stroke=\"#000000\" d=\"M1252.5582,-136C1252.5582,-136 1164.3041,-136 1164.3041,-136 1158.3041,-136 1152.3041,-130 1152.3041,-124 1152.3041,-124 1152.3041,-84 1152.3041,-84 1152.3041,-78 1158.3041,-72 1164.3041,-72 1164.3041,-72 1252.5582,-72 1252.5582,-72 1258.5582,-72 1264.5582,-78 1264.5582,-84 1264.5582,-84 1264.5582,-124 1264.5582,-124 1264.5582,-130 1258.5582,-136 1252.5582,-136\"/>\n",
       "<text text-anchor=\"middle\" x=\"1208.4312\" y=\"-120.8\" font-family=\"Helvetica,sans-Serif\" font-size=\"14.00\" fill=\"#000000\">SibSp &lt;= 2.5</text>\n",
       "<text text-anchor=\"middle\" x=\"1208.4312\" y=\"-106.8\" font-family=\"Helvetica,sans-Serif\" font-size=\"14.00\" fill=\"#000000\">gini = 0.496</text>\n",
       "<text text-anchor=\"middle\" x=\"1208.4312\" y=\"-92.8\" font-family=\"Helvetica,sans-Serif\" font-size=\"14.00\" fill=\"#000000\">samples = 90</text>\n",
       "<text text-anchor=\"middle\" x=\"1208.4312\" y=\"-78.8\" font-family=\"Helvetica,sans-Serif\" font-size=\"14.00\" fill=\"#000000\">value = [49, 41]</text>\n",
       "</g>\n",
       "<!-- 36&#45;&gt;42 -->\n",
       "<g id=\"edge26\" class=\"edge\">\n",
       "<title>36&#45;&gt;42</title>\n",
       "<path fill=\"none\" stroke=\"#000000\" d=\"M1109.4301,-171.8089C1123.3669,-162.2632 1138.7581,-151.7213 1153.1678,-141.8516\"/>\n",
       "<polygon fill=\"#000000\" stroke=\"#000000\" points=\"1155.2478,-144.6693 1161.5202,-136.1308 1151.2921,-138.8941 1155.2478,-144.6693\"/>\n",
       "</g>\n",
       "<!-- 38 -->\n",
       "<g id=\"node25\" class=\"node\">\n",
       "<title>38</title>\n",
       "<path fill=\"#c0c0c0\" stroke=\"#000000\" d=\"M1024.4312,-36C1024.4312,-36 994.4312,-36 994.4312,-36 988.4312,-36 982.4312,-30 982.4312,-24 982.4312,-24 982.4312,-12 982.4312,-12 982.4312,-6 988.4312,0 994.4312,0 994.4312,0 1024.4312,0 1024.4312,0 1030.4312,0 1036.4312,-6 1036.4312,-12 1036.4312,-12 1036.4312,-24 1036.4312,-24 1036.4312,-30 1030.4312,-36 1024.4312,-36\"/>\n",
       "<text text-anchor=\"middle\" x=\"1009.4312\" y=\"-13.8\" font-family=\"Helvetica,sans-Serif\" font-size=\"14.00\" fill=\"#000000\">(...)</text>\n",
       "</g>\n",
       "<!-- 37&#45;&gt;38 -->\n",
       "<g id=\"edge24\" class=\"edge\">\n",
       "<title>37&#45;&gt;38</title>\n",
       "<path fill=\"none\" stroke=\"#000000\" d=\"M1042.6959,-71.9768C1037.1914,-63.0449 1031.2696,-53.4359 1025.9698,-44.8363\"/>\n",
       "<polygon fill=\"#000000\" stroke=\"#000000\" points=\"1028.9418,-42.9877 1020.7157,-36.3108 1022.9826,-46.6602 1028.9418,-42.9877\"/>\n",
       "</g>\n",
       "<!-- 41 -->\n",
       "<g id=\"node26\" class=\"node\">\n",
       "<title>41</title>\n",
       "<path fill=\"#c0c0c0\" stroke=\"#000000\" d=\"M1096.4312,-36C1096.4312,-36 1066.4312,-36 1066.4312,-36 1060.4312,-36 1054.4312,-30 1054.4312,-24 1054.4312,-24 1054.4312,-12 1054.4312,-12 1054.4312,-6 1060.4312,0 1066.4312,0 1066.4312,0 1096.4312,0 1096.4312,0 1102.4312,0 1108.4312,-6 1108.4312,-12 1108.4312,-12 1108.4312,-24 1108.4312,-24 1108.4312,-30 1102.4312,-36 1096.4312,-36\"/>\n",
       "<text text-anchor=\"middle\" x=\"1081.4312\" y=\"-13.8\" font-family=\"Helvetica,sans-Serif\" font-size=\"14.00\" fill=\"#000000\">(...)</text>\n",
       "</g>\n",
       "<!-- 37&#45;&gt;41 -->\n",
       "<g id=\"edge25\" class=\"edge\">\n",
       "<title>37&#45;&gt;41</title>\n",
       "<path fill=\"none\" stroke=\"#000000\" d=\"M1069.5061,-71.9768C1071.3755,-63.515 1073.3792,-54.4455 1075.2004,-46.2023\"/>\n",
       "<polygon fill=\"#000000\" stroke=\"#000000\" points=\"1078.646,-46.8304 1077.3858,-36.3108 1071.8108,-45.3202 1078.646,-46.8304\"/>\n",
       "</g>\n",
       "<!-- 43 -->\n",
       "<g id=\"node28\" class=\"node\">\n",
       "<title>43</title>\n",
       "<path fill=\"#c0c0c0\" stroke=\"#000000\" d=\"M1187.4312,-36C1187.4312,-36 1157.4312,-36 1157.4312,-36 1151.4312,-36 1145.4312,-30 1145.4312,-24 1145.4312,-24 1145.4312,-12 1145.4312,-12 1145.4312,-6 1151.4312,0 1157.4312,0 1157.4312,0 1187.4312,0 1187.4312,0 1193.4312,0 1199.4312,-6 1199.4312,-12 1199.4312,-12 1199.4312,-24 1199.4312,-24 1199.4312,-30 1193.4312,-36 1187.4312,-36\"/>\n",
       "<text text-anchor=\"middle\" x=\"1172.4312\" y=\"-13.8\" font-family=\"Helvetica,sans-Serif\" font-size=\"14.00\" fill=\"#000000\">(...)</text>\n",
       "</g>\n",
       "<!-- 42&#45;&gt;43 -->\n",
       "<g id=\"edge27\" class=\"edge\">\n",
       "<title>42&#45;&gt;43</title>\n",
       "<path fill=\"none\" stroke=\"#000000\" d=\"M1195.0261,-71.9768C1191.4052,-63.327 1187.5186,-54.0421 1184.0072,-45.654\"/>\n",
       "<polygon fill=\"#000000\" stroke=\"#000000\" points=\"1187.1861,-44.1837 1180.0961,-36.3108 1180.729,-46.8867 1187.1861,-44.1837\"/>\n",
       "</g>\n",
       "<!-- 46 -->\n",
       "<g id=\"node29\" class=\"node\">\n",
       "<title>46</title>\n",
       "<path fill=\"#c0c0c0\" stroke=\"#000000\" d=\"M1259.4312,-36C1259.4312,-36 1229.4312,-36 1229.4312,-36 1223.4312,-36 1217.4312,-30 1217.4312,-24 1217.4312,-24 1217.4312,-12 1217.4312,-12 1217.4312,-6 1223.4312,0 1229.4312,0 1229.4312,0 1259.4312,0 1259.4312,0 1265.4312,0 1271.4312,-6 1271.4312,-12 1271.4312,-12 1271.4312,-24 1271.4312,-24 1271.4312,-30 1265.4312,-36 1259.4312,-36\"/>\n",
       "<text text-anchor=\"middle\" x=\"1244.4312\" y=\"-13.8\" font-family=\"Helvetica,sans-Serif\" font-size=\"14.00\" fill=\"#000000\">(...)</text>\n",
       "</g>\n",
       "<!-- 42&#45;&gt;46 -->\n",
       "<g id=\"edge28\" class=\"edge\">\n",
       "<title>42&#45;&gt;46</title>\n",
       "<path fill=\"none\" stroke=\"#000000\" d=\"M1221.8362,-71.9768C1225.4571,-63.327 1229.3438,-54.0421 1232.8551,-45.654\"/>\n",
       "<polygon fill=\"#000000\" stroke=\"#000000\" points=\"1236.1333,-46.8867 1236.7662,-36.3108 1229.6762,-44.1837 1236.1333,-46.8867\"/>\n",
       "</g>\n",
       "</g>\n",
       "</svg>\n"
      ],
      "text/plain": [
       "<graphviz.files.Source at 0x1176895c0>"
      ]
     },
     "execution_count": 6,
     "metadata": {},
     "output_type": "execute_result"
    }
   ],
   "source": [
    "from sklearn.tree import export_graphviz\n",
    "import graphviz\n",
    "dot_graph = export_graphviz(\n",
    "    clf, max_depth=3, feature_names=X.columns, out_file=None,\n",
    "    filled=True, rounded=True\n",
    ")\n",
    "graphviz.Source(dot_graph)"
   ]
  },
  {
   "cell_type": "markdown",
   "metadata": {},
   "source": [
    "In addition to understanding how the predictions are made, the fitting process gives us something called *feature importances*. Feature importance is equal to the total of the optimization function evaluated at every split for a given feature.\n",
    "\n",
    "Trees fit with `sklearn` store feature importances in the `.feature_importances_` attribute."
   ]
  },
  {
   "cell_type": "code",
   "execution_count": 7,
   "metadata": {},
   "outputs": [
    {
     "name": "stdout",
     "output_type": "stream",
     "text": [
      "1. feature Sex=male (0.526174)\n",
      "2. feature Pclass (0.131783)\n",
      "3. feature Fare (0.085709)\n",
      "4. feature Age (0.080391)\n",
      "5. feature Parch (0.036915)\n",
      "6. feature SibSp (0.028413)\n",
      "7. feature PassengerId (0.023065)\n",
      "8. feature Cabin=C22 C26 (0.015352)\n",
      "9. feature Ticket=347077 (0.014434)\n",
      "10. feature Ticket=349909 (0.009070)\n",
      "11. feature Ticket=2653 (0.007988)\n",
      "12. feature Name=Mack, Mrs. (Mary) (0.007908)\n",
      "13. feature Ticket=PC 17595 (0.007814)\n",
      "14. feature Cabin=D56 (0.006865)\n",
      "15. feature Name=Jansson, Mr. Carl Olof (0.006829)\n"
     ]
    }
   ],
   "source": [
    "importances = clf.feature_importances_\n",
    "indices = np.argsort(importances)[::-1]\n",
    "for i, f in enumerate(indices[:15]):\n",
    "    print(\"%d. feature %s (%f)\" % (i + 1, X.columns[f], importances[f]))"
   ]
  },
  {
   "cell_type": "markdown",
   "metadata": {},
   "source": [
    "## Drawing conclusions from feature importances"
   ]
  },
  {
   "cell_type": "markdown",
   "metadata": {},
   "source": [
    "As a side benefit, feature importances can be used to infer the relevance of a feature to a given problem. One way to do this is to include random features in the training data. Based on the feature importances you can conclude whether a given feature is more informative than random noise.\n",
    "\n",
    "However, be cautious in drawing conclusions about a feature based on the magnitude of its feature importance alone. The raw value itself can be deceiving.\n",
    "\n",
    "For example if two features are highly correlated, it may be more or less arbitrary why one the first feature was chosen to split on rather than the second leading to a decrease in feature importance for both features.\n",
    "\n",
    "Also, feature importance is the total importance of a feature for all splits. However, binary features can only be split on once while numeric features may be split on several times."
   ]
  },
  {
   "cell_type": "markdown",
   "metadata": {},
   "source": [
    "# Trees scale well"
   ]
  },
  {
   "cell_type": "markdown",
   "metadata": {},
   "source": [
    "For a single instance trees have a prediction time complexity of $\\text{log}_{2}(d)$ where $d$ is the depth of the tree, i.e. number of splits learned. Note that if there are $n$ training examples in your data set then $d<n$ as trees are incapable of predicting on more than one example at a time (however the algorithm itself is easily parallelizable). Additionally most implementations include a parameter for setting the maximum depth of the tree allowing you to have control over the time complexity at both train and predict time.\n",
    "\n",
    "Tree based ensemble methods, such as the Random Forest or Gradient Boosted Trees also scale well, as the complexity is $tn\\text{log}_{2}(d)$ where $t$ is the number of trees in the ensemble.\n",
    "\n",
    "The following code shows how predict times compare to the number of features used during training."
   ]
  },
  {
   "cell_type": "code",
   "execution_count": 8,
   "metadata": {},
   "outputs": [],
   "source": [
    "import time\n",
    "from sklearn.datasets import make_classification\n",
    "import matplotlib.pyplot as plt\n",
    "\n",
    "class Timer:\n",
    "    def __enter__(self):\n",
    "        self.start = time.time()\n",
    "        return self\n",
    "    def __exit__(self, *exc):\n",
    "        self.stop = time.time()\n",
    "    @property\n",
    "    def elapsed(self):\n",
    "        return self.stop - self.start\n",
    "\n",
    "predict_times = []\n",
    "predict_times_sd = []\n",
    "clf = DecisionTreeClassifier()\n",
    "X_scale, y_scale = make_classification(1000, n_features=4000, n_informative=3900)\n",
    "for n_features in range(10, 4000, 100):\n",
    "    clf.fit(X_scale[:,:n_features], y_scale)\n",
    "    # take mean predict time of several trials\n",
    "    trial_times = []\n",
    "    for _ in range(50):\n",
    "        with Timer() as timer:\n",
    "            clf.predict(X_scale[:,:n_features])\n",
    "        trial_times.append(timer.elapsed)\n",
    "    predict_times.append(np.mean(trial_times))\n",
    "    predict_times_sd.append(np.std(trial_times))"
   ]
  },
  {
   "cell_type": "code",
   "execution_count": 9,
   "metadata": {},
   "outputs": [
    {
     "data": {
      "image/png": "[encoded data removed]",
      "text/plain": [
       "<matplotlib.figure.Figure at 0x11a947a58>"
      ]
     },
     "metadata": {},
     "output_type": "display_data"
    }
   ],
   "source": [
    "_ = plt.errorbar(range(10, 4000, 100), predict_times, yerr=predict_times_sd)"
   ]
  },
  {
   "cell_type": "markdown",
   "metadata": {},
   "source": [
    "# Feature interactions"
   ]
  },
  {
   "cell_type": "markdown",
   "metadata": {},
   "source": [
    "By now we have enough understanding into how trees work to see that they can *implicitly* learn feature interactions. For example consecutive splits on `age` and `weight` are in a certain sense accounting for the interaction of those two features.\n",
    "\n",
    "Keep in mind however that trees are not optimized to learn feature interactions. This means that if you have some knowledge about useful interactions in your data set you should explicitly include those values at train time. Not only can this improve performance, but it can decrease the amount of train/predict time as the model can learn to partition the data using less splits."
   ]
  },
  {
   "cell_type": "markdown",
   "metadata": {},
   "source": [
    "# Susceptibility to overfitting"
   ]
  },
  {
   "cell_type": "markdown",
   "metadata": {},
   "source": [
    "Note that a fully grown decision tree could possibly continue to split the data until each leaf node contains a unique feature set and label. In this case the model is unlikely to generalize. Limiting the maximum depth of the tree or number of features used are a good start to prevent overfitting. Fortunately tree based methods such as the Random Forest as robust against overfitting."
   ]
  }
 ],
 "metadata": {
  "kernelspec": {
   "display_name": "Python 3",
   "language": "python",
   "name": "python3"
  },
  "language_info": {
   "codemirror_mode": {
    "name": "ipython",
    "version": 3
   },
   "file_extension": ".py",
   "mimetype": "text/x-python",
   "name": "python",
   "nbconvert_exporter": "python",
   "pygments_lexer": "ipython3",
   "version": "3.6.2"
  }
 },
 "nbformat": 4,
 "nbformat_minor": 2
}
